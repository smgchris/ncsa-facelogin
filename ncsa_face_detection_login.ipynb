{
  "nbformat": 4,
  "nbformat_minor": 0,
  "metadata": {
    "colab": {
      "name": "ncsa-face-detection-login.ipynb",
      "provenance": [],
      "authorship_tag": "ABX9TyN6sR9qXc+ZtS/24qgkni2d",
      "include_colab_link": true
    },
    "kernelspec": {
      "name": "python3",
      "display_name": "Python 3"
    },
    "language_info": {
      "name": "python"
    }
  },
  "cells": [
    {
      "cell_type": "markdown",
      "metadata": {
        "id": "view-in-github",
        "colab_type": "text"
      },
      "source": [
        "<a href=\"https://colab.research.google.com/github/smgchris/ncsa-facelogin/blob/main/ncsa_face_detection_login.ipynb\" target=\"_parent\"><img src=\"https://colab.research.google.com/assets/colab-badge.svg\" alt=\"Open In Colab\"/></a>"
      ]
    },
    {
      "cell_type": "code",
      "metadata": {
        "colab": {
          "base_uri": "https://localhost:8080/"
        },
        "id": "4RHBGq9EQOdg",
        "outputId": "cf418742-5167-45b8-e8f2-b5f832ed2c47"
      },
      "source": [
        "!pip install flask-ngrok"
      ],
      "execution_count": 4,
      "outputs": [
        {
          "output_type": "stream",
          "text": [
            "Collecting flask-ngrok\n",
            "  Downloading https://files.pythonhosted.org/packages/af/6c/f54cb686ad1129e27d125d182f90f52b32f284e6c8df58c1bae54fa1adbc/flask_ngrok-0.0.25-py3-none-any.whl\n",
            "Requirement already satisfied: Flask>=0.8 in /usr/local/lib/python3.7/dist-packages (from flask-ngrok) (1.1.4)\n",
            "Requirement already satisfied: requests in /usr/local/lib/python3.7/dist-packages (from flask-ngrok) (2.23.0)\n",
            "Requirement already satisfied: itsdangerous<2.0,>=0.24 in /usr/local/lib/python3.7/dist-packages (from Flask>=0.8->flask-ngrok) (1.1.0)\n",
            "Requirement already satisfied: click<8.0,>=5.1 in /usr/local/lib/python3.7/dist-packages (from Flask>=0.8->flask-ngrok) (7.1.2)\n",
            "Requirement already satisfied: Werkzeug<2.0,>=0.15 in /usr/local/lib/python3.7/dist-packages (from Flask>=0.8->flask-ngrok) (1.0.1)\n",
            "Requirement already satisfied: Jinja2<3.0,>=2.10.1 in /usr/local/lib/python3.7/dist-packages (from Flask>=0.8->flask-ngrok) (2.11.3)\n",
            "Requirement already satisfied: chardet<4,>=3.0.2 in /usr/local/lib/python3.7/dist-packages (from requests->flask-ngrok) (3.0.4)\n",
            "Requirement already satisfied: urllib3!=1.25.0,!=1.25.1,<1.26,>=1.21.1 in /usr/local/lib/python3.7/dist-packages (from requests->flask-ngrok) (1.24.3)\n",
            "Requirement already satisfied: idna<3,>=2.5 in /usr/local/lib/python3.7/dist-packages (from requests->flask-ngrok) (2.10)\n",
            "Requirement already satisfied: certifi>=2017.4.17 in /usr/local/lib/python3.7/dist-packages (from requests->flask-ngrok) (2020.12.5)\n",
            "Requirement already satisfied: MarkupSafe>=0.23 in /usr/local/lib/python3.7/dist-packages (from Jinja2<3.0,>=2.10.1->Flask>=0.8->flask-ngrok) (2.0.1)\n",
            "Installing collected packages: flask-ngrok\n",
            "Successfully installed flask-ngrok-0.0.25\n"
          ],
          "name": "stdout"
        }
      ]
    },
    {
      "cell_type": "code",
      "metadata": {
        "colab": {
          "base_uri": "https://localhost:8080/"
        },
        "id": "vdIJ9DxxWByo",
        "outputId": "3e1a5428-a25e-4bf3-ff7d-63cd6ca00240"
      },
      "source": [
        "from flask_ngrok import run_with_ngrok\n",
        "from flask import Flask\n",
        "\n",
        "app=Flask(__name__)\n",
        "run_with_ngrok(app)\n",
        "\n",
        "@app.route('/')\n",
        "def index():\n",
        "  return \"<h1>This is home</h1>\"\n",
        "\n",
        "app.run()"
      ],
      "execution_count": 4,
      "outputs": [
        {
          "output_type": "stream",
          "text": [
            " * Serving Flask app \"__main__\" (lazy loading)\n",
            " * Environment: production\n",
            "\u001b[31m   WARNING: This is a development server. Do not use it in a production deployment.\u001b[0m\n",
            "\u001b[2m   Use a production WSGI server instead.\u001b[0m\n",
            " * Debug mode: off\n"
          ],
          "name": "stdout"
        },
        {
          "output_type": "stream",
          "text": [
            " * Running on http://127.0.0.1:5000/ (Press CTRL+C to quit)\n"
          ],
          "name": "stderr"
        },
        {
          "output_type": "stream",
          "text": [
            " * Running on http://9fb7ae1b912f.ngrok.io\n",
            " * Traffic stats available on http://127.0.0.1:4040\n"
          ],
          "name": "stdout"
        }
      ]
    },
    {
      "cell_type": "code",
      "metadata": {
        "colab": {
          "base_uri": "https://localhost:8080/"
        },
        "id": "GBqG-YOvYNEs",
        "outputId": "88924643-67d1-4ca5-f705-ddc63c4d302c"
      },
      "source": [
        "from google.colab import drive\n",
        "drive.mount('/content/drive')"
      ],
      "execution_count": 6,
      "outputs": [
        {
          "output_type": "stream",
          "text": [
            "Mounted at /content/drive\n"
          ],
          "name": "stdout"
        }
      ]
    },
    {
      "cell_type": "code",
      "metadata": {
        "colab": {
          "base_uri": "https://localhost:8080/"
        },
        "id": "C4fZ6wv9bqD8",
        "outputId": "5d2e5135-5667-42d3-8636-f737066282e3"
      },
      "source": [
        "!pip install flask_cors"
      ],
      "execution_count": 3,
      "outputs": [
        {
          "output_type": "stream",
          "text": [
            "Collecting flask_cors\n",
            "  Downloading https://files.pythonhosted.org/packages/db/84/901e700de86604b1c4ef4b57110d4e947c218b9997adf5d38fa7da493bce/Flask_Cors-3.0.10-py2.py3-none-any.whl\n",
            "Requirement already satisfied: Flask>=0.9 in /usr/local/lib/python3.7/dist-packages (from flask_cors) (1.1.4)\n",
            "Requirement already satisfied: Six in /usr/local/lib/python3.7/dist-packages (from flask_cors) (1.15.0)\n",
            "Requirement already satisfied: click<8.0,>=5.1 in /usr/local/lib/python3.7/dist-packages (from Flask>=0.9->flask_cors) (7.1.2)\n",
            "Requirement already satisfied: Jinja2<3.0,>=2.10.1 in /usr/local/lib/python3.7/dist-packages (from Flask>=0.9->flask_cors) (2.11.3)\n",
            "Requirement already satisfied: itsdangerous<2.0,>=0.24 in /usr/local/lib/python3.7/dist-packages (from Flask>=0.9->flask_cors) (1.1.0)\n",
            "Requirement already satisfied: Werkzeug<2.0,>=0.15 in /usr/local/lib/python3.7/dist-packages (from Flask>=0.9->flask_cors) (1.0.1)\n",
            "Requirement already satisfied: MarkupSafe>=0.23 in /usr/local/lib/python3.7/dist-packages (from Jinja2<3.0,>=2.10.1->Flask>=0.9->flask_cors) (2.0.1)\n",
            "Installing collected packages: flask-cors\n",
            "Successfully installed flask-cors-3.0.10\n"
          ],
          "name": "stdout"
        }
      ]
    },
    {
      "cell_type": "code",
      "metadata": {
        "colab": {
          "base_uri": "https://localhost:8080/"
        },
        "id": "0mZvafhBbF1D",
        "outputId": "5d6325a5-139b-49f4-8a9f-69b381e8c8b7"
      },
      "source": [
        "from flask_ngrok import run_with_ngrok\n",
        "from flask import Flask, request\n",
        "import tensorflow as tf\n",
        "from tensorflow.keras import layers\n",
        "from tensorflow.keras import Model\n",
        "import os\n",
        "import cv2\n",
        "import json\n",
        "import numpy as np\n",
        "from flask_cors import CORS\n",
        "from tensorflow.python.keras.backend import set_session\n",
        "import base64\n",
        "from datetime import datetime\n",
        "\n",
        "tf.compat.v1.disable_eager_execution()\n",
        "\n",
        "graph = tf.compat.v1.get_default_graph()\n",
        "\n",
        "app=Flask(__name__)\n",
        "run_with_ngrok(app)\n",
        "\n",
        "CORS(app)\n",
        "\n",
        "sess = tf.compat.v1.Session()\n",
        "\n",
        "set_session(sess)\n",
        "\n",
        "model = tf.keras.models.load_model('/content/drive/MyDrive/keras-facenet/model/facenet_keras.h5')\n",
        "\n",
        "\n",
        "def img_to_encoding(path, model):\n",
        "  img1 = cv2.imread(path, 1)\n",
        "  img = img1[...,::-1]\n",
        "  dim = (160, 160)\n",
        "  # resize image\n",
        "  if(img.shape != (160, 160, 3)):\n",
        "    img = cv2.resize(img, dim, interpolation = cv2.INTER_AREA)\n",
        "  x_train = np.array([img])\n",
        "  print(x_train)\n",
        "  embedding = model.predict(x_train)\n",
        "  #print(\"embedding\",embedding)\n",
        "  return embedding\n",
        "\n",
        "database = {}\n",
        "\n",
        "def verify(image_path, identity, database, model):\n",
        "  \n",
        "    encoding = img_to_encoding(image_path, model)\n",
        "    dist = np.linalg.norm(encoding-database[identity])\n",
        "    print(dist)\n",
        "    if dist<5:\n",
        "        print(\"It's \" + str(identity) + \", welcome in!\")\n",
        "        match = True\n",
        "    else:\n",
        "        print(\"It's not \" + str(identity) + \", please go away\")\n",
        "        match = False\n",
        "    return dist, match\n",
        "\n",
        "@app.route('/register', methods=['POST'])\n",
        "def register():\n",
        "    try:\n",
        "        username = request.get_json()['username']\n",
        "        img_data = request.get_json()['image64']\n",
        "        with open('/content/drive/MyDrive/ncsa/images/'+username+'.jpg', \"wb\") as fh:\n",
        "            fh.write(base64.b64decode(img_data[22:]))\n",
        "        path = '/content/drive/MyDrive/ncsa/images/'+username+'.jpg'\n",
        "\n",
        "        global sess\n",
        "        global graph\n",
        "        with graph.as_default():\n",
        "            set_session(sess)\n",
        "            database[username] = img_to_encoding(path, model)    \n",
        "        return json.dumps({\"status\": 200})\n",
        "    except:\n",
        "        return json.dumps({\"status\": 500})\n",
        "\n",
        "def who_is_it(image_path, database, model):\n",
        "    # print(image_path)\n",
        "    encoding = img_to_encoding(image_path, model)\n",
        "    min_dist = 1000\n",
        "    identity=\"anonymous\"\n",
        "    # Loop over the database dictionary's names and encodings.\n",
        "    for (name, db_enc) in database.items():\n",
        "        dist = np.linalg.norm(encoding-db_enc)\n",
        "        print(dist)\n",
        "        if dist<min_dist:\n",
        "            min_dist = dist\n",
        "            identity = name\n",
        "    if min_dist > 5:\n",
        "        print(\"Not in the database.\")\n",
        "    else:\n",
        "        print (\"it's \" + str(identity) + \", the distance is \" + str(min_dist))\n",
        "    return min_dist, identity\n",
        "\n",
        "@app.route('/verify', methods=['POST'])\n",
        "def change():\n",
        "    img_data = request.get_json()['image64']\n",
        "    img_name = str(int(datetime.timestamp(datetime.now())))\n",
        "    with open('/content/drive/MyDrive/ncsa/images/'+img_name+'.jpg', \"wb\") as fh:\n",
        "        fh.write(base64.b64decode(img_data[22:]))\n",
        "    path = '/content/drive/MyDrive/ncsa/images/'+img_name+'.jpg'\n",
        "    global sess\n",
        "    global graph\n",
        "    with graph.as_default():\n",
        "        set_session(sess)\n",
        "        min_dist, identity = who_is_it(path, database, model)\n",
        "    os.remove(path)\n",
        "    if min_dist > 5:\n",
        "        return json.dumps({\"identity\": 0})\n",
        "    return json.dumps({\"identity\": str(identity),\"distance\": str(min_dist)})\n",
        "\n",
        "\n",
        "app.run()\n"
      ],
      "execution_count": null,
      "outputs": [
        {
          "output_type": "stream",
          "text": [
            "WARNING:tensorflow:No training configuration found in the save file, so the model was *not* compiled. Compile it manually.\n",
            " * Serving Flask app \"__main__\" (lazy loading)\n",
            " * Environment: production\n",
            "\u001b[31m   WARNING: This is a development server. Do not use it in a production deployment.\u001b[0m\n",
            "\u001b[2m   Use a production WSGI server instead.\u001b[0m\n",
            " * Debug mode: off\n"
          ],
          "name": "stdout"
        },
        {
          "output_type": "stream",
          "text": [
            " * Running on http://127.0.0.1:5000/ (Press CTRL+C to quit)\n"
          ],
          "name": "stderr"
        },
        {
          "output_type": "stream",
          "text": [
            " * Running on http://c50055f3561b.ngrok.io\n",
            " * Traffic stats available on http://127.0.0.1:4040\n"
          ],
          "name": "stdout"
        }
      ]
    }
  ]
}